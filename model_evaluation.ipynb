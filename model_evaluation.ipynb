{
 "cells": [
  {
   "cell_type": "code",
   "execution_count": null,
   "metadata": {},
   "outputs": [],
   "source": [
    "# Given the following confusion matrix, evaluate (by hand) the model's performance.\n",
    "# |               | pred dog   | pred cat   |\n",
    "# |:------------  |-----------:|-----------:|\n",
    "# | actual dog    |         46 |         7  |\n",
    "# | actual cat    |         13 |         34 |\n",
    "# In the context of this problem, what is a false positive?\n",
    "# In the context of this problem, what is a false negative?\n",
    "# How would you describe this model?\n",
    "\n",
    "# Accuracy = Correct/Total = 80/100 = 80%\n",
    "# Recall = TP/(TP+FN) = 34/(34+13) =72.3% \n",
    "# Precision = TP/(TP+FP) = 34/(34+7) = 82.9%"
   ]
  },
  {
   "cell_type": "code",
   "execution_count": 3,
   "metadata": {},
   "outputs": [],
   "source": [
    "# In the context of this problem, what is a false positive?\n",
    "# A False Positive is the prediction of a cat when its a dog\n",
    "\n",
    "# In the context of this problem, what is a false negative?\n",
    "# A False Negative is the prediction of a dog when its a cat\n",
    "\n",
    "# How would you describe this model?\n",
    "# Balanced risk and reliably predictive"
   ]
  },
  {
   "cell_type": "code",
   "execution_count": null,
   "metadata": {},
   "outputs": [],
   "source": []
  }
 ],
 "metadata": {
  "kernelspec": {
   "display_name": "Python 3",
   "language": "python",
   "name": "python3"
  },
  "language_info": {
   "codemirror_mode": {
    "name": "ipython",
    "version": 3
   },
   "file_extension": ".py",
   "mimetype": "text/x-python",
   "name": "python",
   "nbconvert_exporter": "python",
   "pygments_lexer": "ipython3",
   "version": "3.8.5"
  }
 },
 "nbformat": 4,
 "nbformat_minor": 4
}
